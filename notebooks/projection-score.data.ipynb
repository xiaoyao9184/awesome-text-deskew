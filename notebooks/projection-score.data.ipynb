{
 "cells": [
  {
   "cell_type": "code",
   "execution_count": 4,
   "metadata": {},
   "outputs": [],
   "source": [
    "from matplotlib import pyplot as plt"
   ]
  },
  {
   "cell_type": "markdown",
   "metadata": {},
   "source": [
    "## download image"
   ]
  },
  {
   "cell_type": "code",
   "execution_count": 5,
   "metadata": {},
   "outputs": [],
   "source": [
    "import os\n",
    "import requests\n",
    "\n",
    "dir_path = os.path.abspath(\"../images/projection-score\")\n",
    "if not os.path.exists(dir_path):\n",
    "    os.makedirs(dir_path)\n",
    "\n",
    "def download_image(name,url):\n",
    "    path = os.path.join(dir_path, f\"{name}\")\n",
    "    response = requests.get(url)\n",
    "\n",
    "    if response.status_code == 200:\n",
    "        with open(path, 'wb') as f:\n",
    "            f.write(response.content)\n",
    "        print(f\"{path}\")"
   ]
  },
  {
   "cell_type": "code",
   "execution_count": 6,
   "metadata": {},
   "outputs": [
    {
     "name": "stdout",
     "output_type": "stream",
     "text": [
      "f:\\code\\@cv\\awesome-text-deskew\\images\\projection-score\\sample1.jpg\n"
     ]
    }
   ],
   "source": [
    "download_image('sample1.jpg','https://raw.githubusercontent.com/amulyakali/skew-correction/master/sample1.jpg')"
   ]
  },
  {
   "cell_type": "code",
   "execution_count": 7,
   "metadata": {},
   "outputs": [
    {
     "name": "stdout",
     "output_type": "stream",
     "text": [
      "f:\\code\\@cv\\awesome-text-deskew\\images\\projection-score\\sample2.jpg\n"
     ]
    }
   ],
   "source": [
    "download_image('sample2.jpg','https://raw.githubusercontent.com/amulyakali/skew-correction/master/sample2.jpg')"
   ]
  },
  {
   "cell_type": "code",
   "execution_count": 8,
   "metadata": {},
   "outputs": [
    {
     "name": "stdout",
     "output_type": "stream",
     "text": [
      "f:\\code\\@cv\\awesome-text-deskew\\images\\projection-score\\skewed_text.jpg\n"
     ]
    }
   ],
   "source": [
    "download_image('skewed_text.jpg','https://raw.githubusercontent.com/microsoft/knowledge-extraction-recipes-forms/master/Pre_Processing/Projection/skewed_text.jpg')"
   ]
  }
 ],
 "metadata": {
  "kernelspec": {
   "display_name": "awesome-text-deskew",
   "language": "python",
   "name": "python3"
  },
  "language_info": {
   "codemirror_mode": {
    "name": "ipython",
    "version": 3
   },
   "file_extension": ".py",
   "mimetype": "text/x-python",
   "name": "python",
   "nbconvert_exporter": "python",
   "pygments_lexer": "ipython3",
   "version": "3.8.18"
  }
 },
 "nbformat": 4,
 "nbformat_minor": 2
}
