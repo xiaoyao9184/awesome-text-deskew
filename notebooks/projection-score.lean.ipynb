{
 "cells": [
  {
   "cell_type": "markdown",
   "metadata": {},
   "source": [
    "## draw image"
   ]
  },
  {
   "cell_type": "code",
   "execution_count": null,
   "metadata": {},
   "outputs": [],
   "source": [
    "from matplotlib import pyplot as plt\n",
    "import numpy as np\n",
    "\n",
    "def draw_img(img):\n",
    "    fig = plt.figure(figsize=(5,5))\n",
    "    gs = fig.add_gridspec(1,1)\n",
    "\n",
    "    ax = fig.add_subplot(gs[0,0])\n",
    "    ax.set_title(f\"image\")\n",
    "    ax.imshow(img, cmap=\"gray\")"
   ]
  },
  {
   "cell_type": "code",
   "execution_count": null,
   "metadata": {},
   "outputs": [],
   "source": [
    "img = np.zeros((50, 50))\n",
    "\n",
    "img[0:10, 10] = 255\n",
    "\n",
    "img[0:20, 20] = 255\n",
    "\n",
    "img[0:30, 30] = 255\n",
    "\n",
    "img[0:40, 40] = 255\n",
    "\n",
    "draw_img(img)"
   ]
  },
  {
   "cell_type": "markdown",
   "metadata": {},
   "source": [
    "## draw rotate step"
   ]
  },
  {
   "cell_type": "code",
   "execution_count": null,
   "metadata": {},
   "outputs": [],
   "source": [
    "from matplotlib import pyplot as plt\n",
    "import numpy as np\n",
    "import cv2\n",
    "\n",
    "def rotate(img, angle):\n",
    "    rows, cols = img.shape\n",
    "    M = cv2.getRotationMatrix2D((cols / 2, rows / 2), angle, 1)\n",
    "    dst = cv2.warpAffine(img, M, (cols, rows))\n",
    "    return dst\n",
    "\n",
    "def projection(image, vert=False):\n",
    "    axis = 1\n",
    "    if vert:\n",
    "        axis = 0\n",
    "\n",
    "    # Compute the sums of the rows - the projection\n",
    "    row_sums = np.sum(image, axis=axis)\n",
    "\n",
    "    return row_sums"
   ]
  },
  {
   "cell_type": "code",
   "execution_count": null,
   "metadata": {},
   "outputs": [],
   "source": [
    "# define the degrees in each row\n",
    "degs = [0,30,55,90,105,140,170]\n",
    "\n",
    "row_count = len(degs)\n",
    "col_count = 4\n",
    "\n",
    "fig = plt.figure(figsize=(col_count * 5, row_count * 5))\n",
    "fig.suptitle(f\"multi-angle step\")\n",
    "gs = fig.add_gridspec(row_count,col_count)\n",
    "for row, deg in enumerate(degs):\n",
    "    ax = fig.add_subplot(gs[row,0])\n",
    "    ax.set_title(f\"img left rotate degrees:{deg}\")\n",
    "    img_rotated = rotate(img, deg)\n",
    "    ax.imshow(img_rotated, cmap=\"gray\")\n",
    "    ax.plot(25, 25, marker=r'$\\circlearrowleft$', ms=50)\n",
    "    ax.plot(40, 25, marker=r'$\\Updownarrow$', ms=50)\n",
    "\n",
    "    ax = fig.add_subplot(gs[row,1])\n",
    "    ax.set_title(f\"projection by vertical/y axis\")\n",
    "    ax.set_xlabel(\"x - axis\")\n",
    "    ax.set_ylabel(\"sum\")\n",
    "    x = np.arange(len(img_rotated[1]))\n",
    "    projection_vertical = projection(img_rotated, vert=True)\n",
    "    ax.bar(x, projection_vertical)\n",
    "\n",
    "    ax = fig.add_subplot(gs[row,2])\n",
    "    ax.set_title(f\"img left rotate degrees:{deg}\")\n",
    "    img_rotated = rotate(img, deg)\n",
    "    ax.imshow(img_rotated, cmap=\"gray\")\n",
    "    ax.plot(25, 25, marker=r'$\\circlearrowleft$', ms=50)\n",
    "    ax.plot(40, 25, marker=r'$\\Leftrightarrow$', ms=50)\n",
    "\n",
    "    ax = fig.add_subplot(gs[row,3])\n",
    "    ax.set_title(f\"projection by horizontal/x axis\")\n",
    "    ax.set_ylabel(\"y - axis\")\n",
    "    ax.set_xlabel(\"sum\")\n",
    "    y = np.arange(len(img_rotated[0]))\n",
    "    projection_horizontal = projection(img_rotated, vert=False)\n",
    "    ax.barh(y, projection_horizontal)\n",
    "    ax.invert_yaxis()\n"
   ]
  },
  {
   "cell_type": "markdown",
   "metadata": {},
   "source": [
    "## draw projection"
   ]
  },
  {
   "cell_type": "code",
   "execution_count": null,
   "metadata": {},
   "outputs": [],
   "source": [
    "def draw_img_projection(img):\n",
    "    fig = plt.figure(figsize=(10,5))\n",
    "    gs = fig.add_gridspec(1,2)\n",
    "\n",
    "    # draw img\n",
    "    ax = fig.add_subplot(gs[0,0])\n",
    "    ax.set_title(f\"img\")\n",
    "    ax.imshow(img, cmap=\"gray\")\n",
    "    ax.plot(25, 25, marker=r'$\\circlearrowleft$', ms=50)\n",
    "    ax.plot(40, 25, marker=r'$\\Updownarrow$', ms=50)\n",
    "\n",
    "    # get vertical projection space of 0-180 degrees\n",
    "    angle = 180\n",
    "    width = img.shape[1]\n",
    "    space = np.zeros((angle, width))\n",
    "    for deg in range(angle):\n",
    "        img_rotated = rotate(img, deg)\n",
    "        projection_vertical = projection(img_rotated, vert=True)\n",
    "\n",
    "        space[deg] = projection_vertical\n",
    "\n",
    "    # draw projection space\n",
    "    ax = fig.add_subplot(gs[0,1])\n",
    "    ax.set_title(f\"projection\")\n",
    "    ax.set_ylabel(\"x axis\")\n",
    "    ax.set_ylim(0, width)\n",
    "    ax.set_ylabel(\"degrees\")\n",
    "    ax.set_ylim(180, 0)\n",
    "    ax.imshow(space, cmap=\"gray\", aspect='auto')"
   ]
  },
  {
   "cell_type": "code",
   "execution_count": null,
   "metadata": {},
   "outputs": [],
   "source": [
    "# image with empty\n",
    "img = np.zeros((50, 50))\n",
    "\n",
    "# image with one point\n",
    "img[30][20] = 255\n",
    "draw_img_projection(img)\n",
    "\n",
    "# image with two points\n",
    "img[30][30] = 255\n",
    "draw_img_projection(img)\n",
    "\n",
    "# image with three points\n",
    "img[30][40] = 255\n",
    "draw_img_projection(img)\n"
   ]
  },
  {
   "cell_type": "code",
   "execution_count": null,
   "metadata": {},
   "outputs": [],
   "source": [
    "# image with empty\n",
    "img = np.zeros((50, 50))\n",
    "\n",
    "# image with one point\n",
    "img[20][30] = 255\n",
    "draw_img_projection(img)\n",
    "\n",
    "# image with two points\n",
    "img[30][20] = 255\n",
    "draw_img_projection(img)\n",
    "\n",
    "# image with three points\n",
    "img[40][10] = 255\n",
    "draw_img_projection(img)"
   ]
  },
  {
   "cell_type": "code",
   "execution_count": null,
   "metadata": {},
   "outputs": [],
   "source": [
    "# image with empty\n",
    "img = np.zeros((50, 50))\n",
    "\n",
    "# image with one line\n",
    "img[20] = 255\n",
    "draw_img_projection(img)\n",
    "\n",
    "# image with two lines\n",
    "img[30] = 255\n",
    "draw_img_projection(img)\n",
    "\n",
    "# image with three lines\n",
    "img[40] = 255\n",
    "draw_img_projection(img)\n",
    "\n",
    "# image with 4 lines\n",
    "img[:,30] = 255\n",
    "draw_img_projection(img)\n",
    "\n",
    "# image with 5 lines\n",
    "img[:,20] = 255\n",
    "draw_img_projection(img)"
   ]
  },
  {
   "cell_type": "code",
   "execution_count": null,
   "metadata": {},
   "outputs": [],
   "source": [
    "# image with empty\n",
    "img = np.zeros((50, 50))\n",
    "\n",
    "# image with one line\n",
    "img[20] = 255\n",
    "draw_img_projection(img)\n",
    "\n",
    "# image with two lines\n",
    "for i in range(49):\n",
    "    x = i\n",
    "    y = -x + 49\n",
    "    img[y,x] = 255\n",
    "draw_img_projection(img)"
   ]
  }
 ],
 "metadata": {
  "kernelspec": {
   "display_name": "awesome-text-deskew",
   "language": "python",
   "name": "python3"
  },
  "language_info": {
   "codemirror_mode": {
    "name": "ipython",
    "version": 3
   },
   "file_extension": ".py",
   "mimetype": "text/x-python",
   "name": "python",
   "nbconvert_exporter": "python",
   "pygments_lexer": "ipython3",
   "version": "3.8.18"
  }
 },
 "nbformat": 4,
 "nbformat_minor": 2
}
