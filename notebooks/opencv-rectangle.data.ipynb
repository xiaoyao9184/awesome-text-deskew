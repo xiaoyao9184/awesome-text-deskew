{
 "cells": [
  {
   "cell_type": "code",
   "execution_count": 13,
   "metadata": {},
   "outputs": [],
   "source": [
    "from matplotlib import pyplot as plt"
   ]
  },
  {
   "cell_type": "markdown",
   "metadata": {},
   "source": [
    "## download image"
   ]
  },
  {
   "cell_type": "code",
   "execution_count": 14,
   "metadata": {},
   "outputs": [],
   "source": [
    "import os\n",
    "import requests\n",
    "\n",
    "dir_path = os.path.abspath(\"../images/opencv-rectangle\")\n",
    "if not os.path.exists(dir_path):\n",
    "    os.makedirs(dir_path)\n",
    "\n",
    "def download_image(name,url):\n",
    "    path = os.path.join(dir_path, f\"{name}\")\n",
    "    response = requests.get(url)\n",
    "\n",
    "    if response.status_code == 200:\n",
    "        with open(path, 'wb') as f:\n",
    "            f.write(response.content)\n",
    "        print(f\"{path}\")"
   ]
  },
  {
   "cell_type": "code",
   "execution_count": 15,
   "metadata": {},
   "outputs": [
    {
     "name": "stdout",
     "output_type": "stream",
     "text": [
      "f:\\code\\@cv\\awesome-text-deskew\\images\\opencv-rectangle\\img3.png\n"
     ]
    }
   ],
   "source": [
    "download_image('img3.png','https://raw.githubusercontent.com/JafirDon/Skew-Correction-for-Text-Python/main/images/img3.png')"
   ]
  },
  {
   "cell_type": "code",
   "execution_count": 16,
   "metadata": {},
   "outputs": [
    {
     "name": "stdout",
     "output_type": "stream",
     "text": [
      "f:\\code\\@cv\\awesome-text-deskew\\images\\opencv-rectangle\\img4.png\n"
     ]
    }
   ],
   "source": [
    "download_image('img4.png','https://raw.githubusercontent.com/JafirDon/Skew-Correction-for-Text-Python/main/images/img4.png')"
   ]
  }
 ],
 "metadata": {
  "kernelspec": {
   "display_name": "awesome-text-deskew",
   "language": "python",
   "name": "python3"
  },
  "language_info": {
   "codemirror_mode": {
    "name": "ipython",
    "version": 3
   },
   "file_extension": ".py",
   "mimetype": "text/x-python",
   "name": "python",
   "nbconvert_exporter": "python",
   "pygments_lexer": "ipython3",
   "version": "3.8.18"
  }
 },
 "nbformat": 4,
 "nbformat_minor": 2
}
