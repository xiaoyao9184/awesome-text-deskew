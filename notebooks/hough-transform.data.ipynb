{
 "cells": [
  {
   "cell_type": "code",
   "execution_count": 11,
   "metadata": {},
   "outputs": [],
   "source": [
    "from matplotlib import pyplot as plt"
   ]
  },
  {
   "cell_type": "markdown",
   "metadata": {},
   "source": [
    "## download image"
   ]
  },
  {
   "cell_type": "code",
   "execution_count": 12,
   "metadata": {},
   "outputs": [],
   "source": [
    "import os\n",
    "import requests\n",
    "\n",
    "dir_path = os.path.abspath(\"../images/hough-transform\")\n",
    "if not os.path.exists(dir_path):\n",
    "    os.makedirs(dir_path)\n",
    "\n",
    "def download_image(name,url):\n",
    "    path = os.path.join(dir_path, f\"{name}\")\n",
    "    response = requests.get(url)\n",
    "\n",
    "    if response.status_code == 200:\n",
    "        with open(path, 'wb') as f:\n",
    "            f.write(response.content)\n",
    "        print(f\"{path}\")"
   ]
  },
  {
   "cell_type": "code",
   "execution_count": 13,
   "metadata": {},
   "outputs": [
    {
     "name": "stdout",
     "output_type": "stream",
     "text": [
      "f:\\code\\@cv\\awesome-text-deskew\\images\\hough-transform\\doc.png\n"
     ]
    }
   ],
   "source": [
    "download_image('doc.png','https://www.muthu.co/wp-content/uploads/2020/08/doc.png')"
   ]
  },
  {
   "cell_type": "code",
   "execution_count": 14,
   "metadata": {},
   "outputs": [
    {
     "name": "stdout",
     "output_type": "stream",
     "text": [
      "f:\\code\\@cv\\awesome-text-deskew\\images\\hough-transform\\4N5cBcvldd0hhjwI6EJqoA.png\n"
     ]
    }
   ],
   "source": [
    "download_image('4N5cBcvldd0hhjwI6EJqoA.png','https://miro.medium.com/v2/resize:fit:1100/format:webp/1*4N5cBcvldd0hhjwI6EJqoA.png')"
   ]
  },
  {
   "cell_type": "code",
   "execution_count": 15,
   "metadata": {},
   "outputs": [
    {
     "name": "stdout",
     "output_type": "stream",
     "text": [
      "f:\\code\\@cv\\awesome-text-deskew\\images\\hough-transform\\4.jpg\n"
     ]
    }
   ],
   "source": [
    "download_image('4.jpg','https://raw.githubusercontent.com/kakul/Alyn/master/examples/4.jpg')"
   ]
  },
  {
   "cell_type": "markdown",
   "metadata": {},
   "source": [
    "## draw image"
   ]
  },
  {
   "cell_type": "code",
   "execution_count": 16,
   "metadata": {},
   "outputs": [],
   "source": [
    "import numpy as np\n",
    "import os\n",
    "from PIL import Image\n",
    "from matplotlib import pyplot as plt\n",
    "\n",
    "dir_path = os.path.abspath(\"../images/hough-transform\")\n",
    "if not os.path.exists(dir_path):\n",
    "    os.makedirs(dir_path)\n",
    "\n",
    "def draw_image(name,img):\n",
    "    path = os.path.join(dir_path, f\"{name}\")\n",
    "    pil_image = Image.fromarray(img)\n",
    "    pil_image.save(path)\n",
    "    print(f\"{path}\")\n",
    "\n",
    "    fig = plt.figure(figsize=(5,5))\n",
    "    gs = fig.add_gridspec(1,1)\n",
    "    ax = fig.add_subplot(gs[0,0])\n",
    "    ax.set_title(f\"image\")\n",
    "    ax.imshow(img, cmap='gray')"
   ]
  },
  {
   "cell_type": "code",
   "execution_count": 17,
   "metadata": {},
   "outputs": [
    {
     "name": "stdout",
     "output_type": "stream",
     "text": [
      "f:\\code\\@cv\\awesome-text-deskew\\images\\hough-transform\\broder.png\n"
     ]
    },
    {
     "data": {
      "image/png": "[encoded data removed]",
      "text/plain": [
       "<Figure size 500x500 with 1 Axes>"
      ]
     },
     "metadata": {},
     "output_type": "display_data"
    }
   ],
   "source": [
    "img = np.zeros((100, 100), dtype=np.uint8)\n",
    "\n",
    "# line at x \n",
    "width = 98\n",
    "img[:,width] = 255\n",
    "\n",
    "# line at y\n",
    "height = 98\n",
    "img[height] = 255\n",
    "\n",
    "# image with two lines\n",
    "for i in range(99):\n",
    "    x = i\n",
    "    y = -x + 20\n",
    "    img[y,x] = 255\n",
    "\n",
    "draw_image('broder.png',img)"
   ]
  }
 ],
 "metadata": {
  "kernelspec": {
   "display_name": "awesome-text-deskew",
   "language": "python",
   "name": "python3"
  },
  "language_info": {
   "codemirror_mode": {
    "name": "ipython",
    "version": 3
   },
   "file_extension": ".py",
   "mimetype": "text/x-python",
   "name": "python",
   "nbconvert_exporter": "python",
   "pygments_lexer": "ipython3",
   "version": "3.8.18"
  }
 },
 "nbformat": 4,
 "nbformat_minor": 2
}
