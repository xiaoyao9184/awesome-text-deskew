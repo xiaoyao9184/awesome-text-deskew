{
 "cells": [
  {
   "cell_type": "code",
   "execution_count": 1,
   "metadata": {},
   "outputs": [],
   "source": [
    "from matplotlib import pyplot as plt"
   ]
  },
  {
   "cell_type": "markdown",
   "metadata": {},
   "source": [
    "## download image"
   ]
  },
  {
   "cell_type": "code",
   "execution_count": 2,
   "metadata": {},
   "outputs": [],
   "source": [
    "import os\n",
    "import requests\n",
    "\n",
    "dir_path = os.path.abspath(\"../images/hough-transform\")\n",
    "if not os.path.exists(dir_path):\n",
    "    os.makedirs(dir_path)\n",
    "\n",
    "def download_image(name,url):\n",
    "    path = os.path.join(dir_path, f\"{name}\")\n",
    "    response = requests.get(url)\n",
    "\n",
    "    if response.status_code == 200:\n",
    "        with open(path, 'wb') as f:\n",
    "            f.write(response.content)\n",
    "        print(f\"{path}\")"
   ]
  },
  {
   "cell_type": "code",
   "execution_count": 3,
   "metadata": {},
   "outputs": [
    {
     "name": "stdout",
     "output_type": "stream",
     "text": [
      "f:\\code\\@cv\\awesome-text-deskew\\images\\hough-transform\\doc.png\n"
     ]
    }
   ],
   "source": [
    "download_image('doc.png','https://www.muthu.co/wp-content/uploads/2020/08/doc.png')"
   ]
  },
  {
   "cell_type": "code",
   "execution_count": 4,
   "metadata": {},
   "outputs": [
    {
     "name": "stdout",
     "output_type": "stream",
     "text": [
      "f:\\code\\@cv\\awesome-text-deskew\\images\\hough-transform\\4N5cBcvldd0hhjwI6EJqoA.png\n"
     ]
    }
   ],
   "source": [
    "download_image('4N5cBcvldd0hhjwI6EJqoA.png','https://miro.medium.com/v2/resize:fit:1100/format:webp/1*4N5cBcvldd0hhjwI6EJqoA.png')"
   ]
  },
  {
   "cell_type": "code",
   "execution_count": 5,
   "metadata": {},
   "outputs": [
    {
     "name": "stdout",
     "output_type": "stream",
     "text": [
      "f:\\code\\@cv\\awesome-text-deskew\\images\\hough-transform\\4.jpg\n"
     ]
    }
   ],
   "source": [
    "download_image('4.jpg','https://raw.githubusercontent.com/kakul/Alyn/master/examples/4.jpg')"
   ]
  }
 ],
 "metadata": {
  "kernelspec": {
   "display_name": "awesome-text-deskew",
   "language": "python",
   "name": "python3"
  },
  "language_info": {
   "codemirror_mode": {
    "name": "ipython",
    "version": 3
   },
   "file_extension": ".py",
   "mimetype": "text/x-python",
   "name": "python",
   "nbconvert_exporter": "python",
   "pygments_lexer": "ipython3",
   "version": "3.8.18"
  }
 },
 "nbformat": 4,
 "nbformat_minor": 2
}
