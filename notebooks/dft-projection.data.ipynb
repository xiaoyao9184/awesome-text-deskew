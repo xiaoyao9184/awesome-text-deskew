{
 "cells": [
  {
   "cell_type": "markdown",
   "metadata": {},
   "source": [
    "## download image"
   ]
  },
  {
   "cell_type": "code",
   "execution_count": 1,
   "metadata": {},
   "outputs": [],
   "source": [
    "import os\n",
    "import requests\n",
    "\n",
    "dir_path = os.path.abspath(\"../images/dft-projection\")\n",
    "if not os.path.exists(dir_path):\n",
    "    os.makedirs(dir_path)\n",
    "\n",
    "def download_image(name,url):\n",
    "    path = os.path.join(dir_path, f\"{name}\")\n",
    "    response = requests.get(url)\n",
    "\n",
    "    if response.status_code == 200:\n",
    "        with open(path, 'wb') as f:\n",
    "            f.write(response.content)\n",
    "        print(f\"{path}\")"
   ]
  },
  {
   "cell_type": "code",
   "execution_count": 2,
   "metadata": {},
   "outputs": [
    {
     "name": "stdout",
     "output_type": "stream",
     "text": [
      "f:\\code\\@cv\\awesome-text-deskew\\images\\dft-projection\\msqcnD0Mpz0CG0AizC0SqA.png\n"
     ]
    }
   ],
   "source": [
    "download_image('msqcnD0Mpz0CG0AizC0SqA.png','https://miro.medium.com/v2/resize:fit:720/format:webp/1*msqcnD0Mpz0CG0AizC0SqA.png')"
   ]
  }
 ],
 "metadata": {
  "kernelspec": {
   "display_name": "awesome-text-deskew",
   "language": "python",
   "name": "python3"
  },
  "language_info": {
   "codemirror_mode": {
    "name": "ipython",
    "version": 3
   },
   "file_extension": ".py",
   "mimetype": "text/x-python",
   "name": "python",
   "nbconvert_exporter": "python",
   "pygments_lexer": "ipython3",
   "version": "3.8.18"
  }
 },
 "nbformat": 4,
 "nbformat_minor": 2
}
